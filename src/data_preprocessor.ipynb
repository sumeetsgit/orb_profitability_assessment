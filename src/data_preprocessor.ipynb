{
 "cells": [
  {
   "cell_type": "code",
   "execution_count": 1,
   "id": "5c8e142a",
   "metadata": {},
   "outputs": [],
   "source": [
    "import pandas as pd\n",
    "import os\n",
    "from tqdm import tqdm"
   ]
  },
  {
   "cell_type": "code",
   "execution_count": 2,
   "id": "48ad3fb0",
   "metadata": {},
   "outputs": [
    {
     "name": "stdout",
     "output_type": "stream",
     "text": [
      "All Available NSE Tickers --> 2062\n"
     ]
    }
   ],
   "source": [
    "BASE_DIR = \"C:/SUMEET/PERSONAL/WQU/WQU - Capstone Project/CODE/orb_profitability_assessment/\"\n",
    "NSE_EQUITY_LIST_PATH = BASE_DIR + \"data/NSE-Equity-List.csv\"\n",
    "raw_data_1min_path = BASE_DIR + \"data/raw-data-1minute/nse/equity/\"\n",
    "\n",
    "\n",
    "years = [\"2021\", \"2022\"]\n",
    "months = [\"January\", \"February\", \"March\", \"April\", \"May\", \"June\", \"July\", \"August\", \"September\", \"October\", \"November\", \"December\"]\n",
    "\n",
    "tickers = pd.read_csv(NSE_EQUITY_LIST_PATH, header=None)[0].tolist()\n",
    "\n",
    "print(\"All Available NSE Tickers --> {}\".format(len(tickers)))\n",
    "\n"
   ]
  },
  {
   "cell_type": "code",
   "execution_count": 3,
   "id": "3aa872e1",
   "metadata": {},
   "outputs": [
    {
     "name": "stdout",
     "output_type": "stream",
     "text": [
      "January_2021 1839\n",
      "February_2021 1841\n",
      "March_2021 1868\n",
      "April_2021 1895\n",
      "May_2021 1815\n",
      "June_2021 1821\n",
      "July_2021 1830\n",
      "August_2021 1846\n",
      "September_2021 1851\n",
      "October_2021 1864\n",
      "November_2021 1886\n",
      "December_2021 1921\n",
      "January_2022 1927\n",
      "February_2022 1935\n",
      "March_2022 1944\n",
      "April_2022 1963\n",
      "May_2022 1985\n",
      "June_2022 2132\n",
      "July_2022 1979\n",
      "August_2022 1993\n",
      "September_2022 2004\n",
      "October_2022 2188\n",
      "November_2022 2035\n",
      "December_2022 2048\n",
      "==================================================================\n",
      "Common tickers across all durations -->  1619\n"
     ]
    }
   ],
   "source": [
    "all_raw_data_1min = {}\n",
    "\n",
    "for year in years:\n",
    "    for month in months:\n",
    "        duration = month + \"_\" + year\n",
    "        actual_data_dir = raw_data_1min_path + year + \"/\" + duration\n",
    "        available_tickers_nse_1min = os.listdir(actual_data_dir)\n",
    "        all_raw_data_1min[duration] = available_tickers_nse_1min\n",
    "        print(duration, len(available_tickers_nse_1min))\n",
    "        \n",
    "\n",
    "\n",
    "# Combine all lists into a single list of lists\n",
    "all_lists = list(all_raw_data_1min.values())\n",
    "\n",
    "# Find common elements across all lists\n",
    "common_tickers = set(all_lists[0])  # Start with the first list as the base\n",
    "for lst in all_lists[1:]:\n",
    "    common_tickers &= set(lst)  # Intersect with each subsequent list\n",
    "\n",
    "# Convert back to a list if needed\n",
    "common_tickers = list(common_tickers)\n",
    "\n",
    "print(\"=\"*66)\n",
    "print(\"Common tickers across all durations --> \", len(common_tickers))"
   ]
  },
  {
   "cell_type": "code",
   "execution_count": 4,
   "id": "7dc66eb8",
   "metadata": {},
   "outputs": [],
   "source": [
    "common_tickers_df = pd.DataFrame(common_tickers, columns = [\"tickers\"])\n",
    "common_tickers_df.to_csv(BASE_DIR + \"data/NSE-Equity-List(Available).csv\")"
   ]
  },
  {
   "cell_type": "code",
   "execution_count": null,
   "id": "de6e7b27",
   "metadata": {},
   "outputs": [],
   "source": []
  }
 ],
 "metadata": {
  "kernelspec": {
   "display_name": "wqu_capstone",
   "language": "python",
   "name": "wqu_capstone"
  },
  "language_info": {
   "codemirror_mode": {
    "name": "ipython",
    "version": 3
   },
   "file_extension": ".py",
   "mimetype": "text/x-python",
   "name": "python",
   "nbconvert_exporter": "python",
   "pygments_lexer": "ipython3",
   "version": "3.11.11"
  }
 },
 "nbformat": 4,
 "nbformat_minor": 5
}
